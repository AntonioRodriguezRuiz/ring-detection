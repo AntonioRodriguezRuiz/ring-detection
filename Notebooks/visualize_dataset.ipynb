{
 "cells": [
  {
   "attachments": {},
   "cell_type": "markdown",
   "metadata": {},
   "source": [
    "# Visualize Dataset\n",
    "\n",
    "The sole purpose of this notebook is to visualize the dataset generated during in the generator script. For that, we will use pandas and matplotlib"
   ]
  },
  {
   "cell_type": "code",
   "execution_count": 19,
   "metadata": {},
   "outputs": [],
   "source": [
    "DATASET_LOCATION = \"../dataset\" # Specifies where the csv are located\n",
    "KNOWN_DATA = True # Whether the csv files contain the real centers and radii"
   ]
  },
  {
   "cell_type": "code",
   "execution_count": 20,
   "metadata": {},
   "outputs": [],
   "source": [
    "import math, random, os\n",
    "import pandas as pd\n",
    "import matplotlib.pyplot as plt"
   ]
  },
  {
   "attachments": {},
   "cell_type": "markdown",
   "metadata": {},
   "source": [
    "## PointsSet Class\n",
    "\n",
    "We will use this class again here to help parse the csv and reconstruct the data "
   ]
  },
  {
   "cell_type": "code",
   "execution_count": 21,
   "metadata": {},
   "outputs": [],
   "source": [
    "class PointsSet:\n",
    "    def __init__(self, points, center, radius, circ_no):\n",
    "        self.points = points\n",
    "        self.center = center\n",
    "        self.radius = radius\n",
    "        self.circ_no = circ_no\n",
    "\n",
    "    def parse(points, center, radius, circ_no):\n",
    "        points = points\n",
    "        center = center if not math.isnan(circ_no) else None\n",
    "        radius = radius if not math.isnan(circ_no) else None\n",
    "        circ_no = int(circ_no) if not math.isnan(circ_no) else None\n",
    "        return PointsSet(points, center, radius, circ_no)\n",
    "\n",
    "    def add_point(self, point):\n",
    "        self.points.append(point)\n",
    "\n",
    "    def is_noise(self):\n",
    "        return self.circ_no is None\n",
    "\n",
    "    def unpack(self):\n",
    "        if self.is_noise():\n",
    "            return [[p[0], p[1], None, None, None] for p in self.points]\n",
    "        else:\n",
    "            return [[p[0], p[1], self.center[0], self.center[1], self.radius, self.circ_no] for p in self.points]\n",
    "\n",
    "    def __str__(self):\n",
    "        if self.is_noise():\n",
    "            return f\"{len(self.points)} of Noise\"\n",
    "        else:\n",
    "            return f\"Circunference {self.circ_no} has {len(self.points)} points and center in {self.center}\""
   ]
  },
  {
   "attachments": {},
   "cell_type": "markdown",
   "metadata": {},
   "source": [
    "## Data extraction\n",
    "\n",
    "The first step to represent the data is to extract it from the csv files. This time we have to take care of NaN values since comparing it to others will result on each noise point to be on its own set of points."
   ]
  },
  {
   "cell_type": "code",
   "execution_count": 22,
   "metadata": {},
   "outputs": [],
   "source": [
    "def extract_point_sets(df):\n",
    "    data = []\n",
    "    if KNOWN_DATA:\n",
    "        for _, row in df.iterrows():\n",
    "            existing_ps = next(filter(lambda ps: ps.circ_no==row.circ_no if not math.isnan(row.circ_no) else ps.circ_no is None, data), None)\n",
    "            if existing_ps is not None:\n",
    "                existing_ps.add_point((row.point_x, row.point_y))\n",
    "            else:\n",
    "                data.append(PointsSet.parse([(row.point_x, row.point_y)], (row.center_x, row.center_y), row.radius, row.circ_no))\n",
    "        \n",
    "    else:\n",
    "        for _, row in df.iterrows():\n",
    "            data.append(PointsSet.parse([(row.point_x, row.point_y)], math.nan, math.nan, math.nan))\n",
    "\n",
    "    return data"
   ]
  },
  {
   "attachments": {},
   "cell_type": "markdown",
   "metadata": {},
   "source": [
    "## Plotting\n",
    "\n",
    "We define the function to plot the results. We want it to be in a 100x100 plane and assign different colors to the points depending on their circunference"
   ]
  },
  {
   "cell_type": "code",
   "execution_count": 23,
   "metadata": {},
   "outputs": [],
   "source": [
    "def plot_data(data):\n",
    "    points = []\n",
    "    c = []\n",
    "    for points_set in data:\n",
    "        points.extend(points_set.points)\n",
    "        \n",
    "        # We set the color for the set, making sure its different for each set\n",
    "        set_color = random.uniform(0, 100)\n",
    "        while(set_color in c):\n",
    "            set_color = random.uniform(0, 100)\n",
    "        c.extend([set_color for _ in points_set.points]) if KNOWN_DATA else None\n",
    "\n",
    "    plt.figure()\n",
    "    plt.scatter(*zip(*points), s=10, c=c)  if KNOWN_DATA else plt.scatter(*zip(*points), s=10)\n",
    "    plt.xlim([0,100])\n",
    "    plt.ylim([0,100])\n",
    "    plt.gca().set_aspect('equal')\n",
    "    plt.show()"
   ]
  },
  {
   "attachments": {},
   "cell_type": "markdown",
   "metadata": {},
   "source": [
    "## Show Data\n",
    "\n",
    "Now we just iterate over all csv in the dataset and show them to the end user "
   ]
  },
  {
   "cell_type": "code",
   "execution_count": null,
   "metadata": {},
   "outputs": [],
   "source": [
    "for set_type in [\"clean\", \"extends\", \"collides\"]:\n",
    "    for filename in os.listdir(DATASET_LOCATION+f\"/{set_type}\"):\n",
    "        if filename.endswith(\".csv\"): \n",
    "            df = pd.read_csv(f\"{DATASET_LOCATION}/{set_type}/{filename}\",header=0, sep=\";\")\n",
    "            data = extract_point_sets(df)\n",
    "            print(f\"{set_type}/{filename}\")\n",
    "            plot_data(data)\n"
   ]
  },
  {
   "cell_type": "code",
   "execution_count": null,
   "metadata": {},
   "outputs": [],
   "source": []
  }
 ],
 "metadata": {
  "kernelspec": {
   "display_name": ".venv",
   "language": "python",
   "name": "python3"
  },
  "language_info": {
   "codemirror_mode": {
    "name": "ipython",
    "version": 3
   },
   "file_extension": ".py",
   "mimetype": "text/x-python",
   "name": "python",
   "nbconvert_exporter": "python",
   "pygments_lexer": "ipython3",
   "version": "3.10.6"
  },
  "orig_nbformat": 4,
  "vscode": {
   "interpreter": {
    "hash": "2446266b7054609a6dae69b456e88a59e71437ec47e5b51a68b438a99636ed8c"
   }
  }
 },
 "nbformat": 4,
 "nbformat_minor": 2
}
