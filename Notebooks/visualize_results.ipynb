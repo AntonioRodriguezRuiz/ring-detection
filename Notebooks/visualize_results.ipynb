{
 "cells": [
  {
   "attachments": {},
   "cell_type": "markdown",
   "metadata": {},
   "source": [
    "# Results visualization\n",
    "\n",
    "This notebook provides a similar functionality to the visualization of the dataset, with the difference that this time we will compare the real data with the detected rings. The first step for this is to read the results and extract all the examples from it"
   ]
  },
  {
   "cell_type": "code",
   "execution_count": 1,
   "metadata": {},
   "outputs": [],
   "source": [
    "import json, math, random\n",
    "import numpy as np\n",
    "import matplotlib.pyplot as plt"
   ]
  },
  {
   "cell_type": "code",
   "execution_count": 2,
   "metadata": {},
   "outputs": [],
   "source": [
    "RESULTS_PATH = \"../results/results_2023-04-28 20:38:32.563698.json\"\n",
    "KNOWN_DATA = True # Whether the csv files contain the real centers and radii"
   ]
  },
  {
   "cell_type": "code",
   "execution_count": 3,
   "metadata": {},
   "outputs": [],
   "source": [
    "f = open(f\"{RESULTS_PATH}\")\n",
    "results = json.load(f)"
   ]
  },
  {
   "attachments": {},
   "cell_type": "markdown",
   "metadata": {},
   "source": [
    "## Plotting\n",
    "\n",
    "We define the function to plot the results. We want it to be in a 100x100 plane and assign different colors to the points depending on their circunference. We will compare the results to the data by drawing a circunference where detected"
   ]
  },
  {
   "cell_type": "code",
   "execution_count": 7,
   "metadata": {},
   "outputs": [],
   "source": [
    "def plot_data(data):\n",
    "    points = []\n",
    "    c = []\n",
    "    if KNOWN_DATA:\n",
    "        for key, circ in data[\"circunferences\"].items():\n",
    "            points.extend(circ[\"points\"])\n",
    "            \n",
    "            # We set the color for the set, making sure its different for each set\n",
    "            set_color = random.randint(0, 100)\n",
    "            while(set_color in c):\n",
    "                set_color = random.randint(0, 100)\n",
    "            c.extend([set_color for _ in circ[\"points\"]])\n",
    "        \n",
    "        noise = list(*data[\"noise\"])\n",
    "        points.extend(noise)\n",
    "        set_color = random.randint(0, 100)\n",
    "        while(set_color in c):\n",
    "            set_color = random.randint(0, 100)\n",
    "        c.extend([set_color for _ in noise])\n",
    "\n",
    "        rings = []\n",
    "        for det_center_ind, _ in data[\"pairs\"]:\n",
    "            points.append(data[\"predicted_centers\"][det_center_ind])\n",
    "            rings.append(plt.Circle(data[\"predicted_centers\"][det_center_ind], data[\"predicted_radii\"][det_center_ind], fill=False))\n",
    "            c.append(0.0)\n",
    "\n",
    "        fig = plt.figure(figsize=(5, 5), dpi=100)\n",
    "        ax = fig.add_subplot()\n",
    "        ax.scatter(*zip(*points), s=10, c=c)\n",
    "        for r in rings:\n",
    "            ax.add_artist( r )\n",
    "        ax.set(xlim=(0, 100), ylim=(0, 100))\n",
    "        ax.set_aspect('equal')\n",
    "    else:\n",
    "        points.extend(data[\"points\"])\n",
    "        rings = []\n",
    "        for i in range(len(data[\"predicted_centers\"])):\n",
    "            rings.append(plt.Circle(data[\"predicted_centers\"][i], data[\"predicted_radii\"][i], fill=False))\n",
    "        \n",
    "        fig = plt.figure(figsize=(5, 5), dpi=100)\n",
    "        ax = fig.add_subplot()\n",
    "        ax.scatter(*zip(*points), s=10)\n",
    "        for r in rings:\n",
    "            ax.add_artist( r )\n",
    "        ax.set(xlim=(0, 100), ylim=(0, 100))\n",
    "        ax.set_aspect('equal')\n",
    "\n",
    "    fig.show()"
   ]
  },
  {
   "cell_type": "code",
   "execution_count": null,
   "metadata": {},
   "outputs": [],
   "source": [
    "for set_type in [\"clean\", \"extends\", \"collides\"]:\n",
    "    for filename in results[set_type]:\n",
    "        plot_data(results[set_type][filename])"
   ]
  },
  {
   "cell_type": "code",
   "execution_count": null,
   "metadata": {},
   "outputs": [],
   "source": []
  },
  {
   "cell_type": "code",
   "execution_count": null,
   "metadata": {},
   "outputs": [],
   "source": []
  }
 ],
 "metadata": {
  "kernelspec": {
   "display_name": ".venv",
   "language": "python",
   "name": "python3"
  },
  "language_info": {
   "codemirror_mode": {
    "name": "ipython",
    "version": 3
   },
   "file_extension": ".py",
   "mimetype": "text/x-python",
   "name": "python",
   "nbconvert_exporter": "python",
   "pygments_lexer": "ipython3",
   "version": "3.10.6"
  },
  "orig_nbformat": 4
 },
 "nbformat": 4,
 "nbformat_minor": 2
}
