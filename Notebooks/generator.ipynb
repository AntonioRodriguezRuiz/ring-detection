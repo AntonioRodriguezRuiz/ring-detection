{
 "cells": [
  {
   "attachments": {},
   "cell_type": "markdown",
   "metadata": {},
   "source": [
    "# Dataset Generator\n",
    "\n",
    "In this notebook we find the necessary code to produce the dataset we will use for training and testing the model which will identify the circunferences in an area of 100x100 units"
   ]
  },
  {
   "attachments": {},
   "cell_type": "markdown",
   "metadata": {},
   "source": [
    "## CONSTANTS\n",
    "\n",
    "Define here the constants for the generation of the DataSet"
   ]
  },
  {
   "cell_type": "code",
   "execution_count": 201,
   "metadata": {},
   "outputs": [],
   "source": [
    "NUM_IMAGES = 10 # Size of the Dataset\n",
    "NUM_CIRC = 3 # Number of circunferences\n",
    "RANDOMNESS = 1.0 # Ammount of randomness in the points of a circunference. The more the randomness, the less defined the circunference. It is advised to not make it too large\n",
    "RANGE_POINTS = (30,50) # Range for the ammount of points in a circunference of radius 1, the ammount of points for a circunference will be random inside this interval. For other radiuses it will be proportional\n",
    "RANGE_RADIUS = (5.0, 15.0) # Range for the radius of the circunferences. Values must be float\n",
    "NOISE_RATIO = 1/10 # Number of random points generated in the Dataset per circunference point. These will be added at the end of the process\n",
    "\n",
    "OUTPUT = \"../dataset\" # Dataset output"
   ]
  },
  {
   "attachments": {},
   "cell_type": "markdown",
   "metadata": {},
   "source": [
    "## Circunference generator\n",
    "\n",
    "The first thing to do is create a function that will give us a circunference based on the values provided of x ofsset, y offset, radius of the circunference and ammount of randomness in the points (x and y)\n",
    "\n",
    "This function will generate the requested ammount of points in random positions throughout the circunference"
   ]
  },
  {
   "cell_type": "code",
   "execution_count": 202,
   "metadata": {},
   "outputs": [],
   "source": [
    "import random, os\n",
    "import matplotlib.pyplot as plt\n",
    "from math import pi, cos, sin, sqrt\n",
    "import numpy as np\n",
    "\n",
    "def get_circunference_points(n, center, rad):\n",
    "    points = []\n",
    "    for _ in range(n):\n",
    "        theta = random.random() * 2 * pi\n",
    "        x = center[0] + cos(theta)*rad + (random.random()/10)*rad*RANDOMNESS\n",
    "        y = center[1] + sin(theta) * rad + (random.random()/10)*rad*RANDOMNESS\n",
    "        points.append((x,y)) if 0<=x<=100 and 0<=y<=100 else _ # We only add those points inside the valid range\n",
    "    return points"
   ]
  },
  {
   "attachments": {},
   "cell_type": "markdown",
   "metadata": {},
   "source": [
    "## Classes\n",
    "\n",
    "We will need two classes to define the type of points in the dataset. We have two types of points, those belonging to Noise and those part of a Circunference\n",
    "\n",
    "To make it easier to store the information, we will only use one type of class, allowing null values"
   ]
  },
  {
   "cell_type": "code",
   "execution_count": 203,
   "metadata": {},
   "outputs": [],
   "source": [
    "class PointsSet:\n",
    "    def __init__(self, points, center, circ_no):\n",
    "        self.points = points\n",
    "        self.center = center\n",
    "        self.circ_no = circ_no\n",
    "\n",
    "    def add_point(self, point):\n",
    "        self.points.append(point)\n",
    "\n",
    "    def get_radius(self):\n",
    "        return np.median([sqrt((self.center[0]-p[0])**2 + (self.center[1]-p[1])**2) for p in self.points])\n",
    "\n",
    "    def is_noise(self):\n",
    "        return self.circ_no is None\n",
    "\n",
    "    def unpack(self):\n",
    "        if self.is_noise():\n",
    "            return [[p[0], p[1], None, None] for p in self.points]\n",
    "        else:\n",
    "            return [[p[0], p[1], self.center[0], self.center[1], self.circ_no] for p in self.points]\n",
    "\n",
    "    def __str__(self):\n",
    "        if self.is_noise():\n",
    "            return f\"{len(self.points)} of Noise\"\n",
    "        else:\n",
    "            return f\"Circunference {self.circ_no} has {len(self.points)} points and center in {self.center}\""
   ]
  },
  {
   "attachments": {},
   "cell_type": "markdown",
   "metadata": {},
   "source": [
    "## Data Creation\n",
    "\n",
    "With the prevoiusly developed code we can now create the set of circunferences to be used in \"1 image\", and then creating the noise. Before creating the rings, we have to come up with a set of centers and radii that will satisfy the set_type requested"
   ]
  },
  {
   "cell_type": "code",
   "execution_count": 240,
   "metadata": {},
   "outputs": [],
   "source": [
    "def get_data(set_type):\n",
    "    centers = [(random.uniform(0.0, 100.0), random.uniform(0.0, 100.0)) for _ in range(NUM_CIRC)]\n",
    "    radii = [random.randint(*RANGE_RADIUS) for _ in range(NUM_CIRC)]\n",
    "    collides = any(any((centers[i][0]-centers[j][0])**2 + (centers[i][1]-centers[j][1])**2 <= (radii[i]+radii[j])**2 for i in range(j+1, NUM_CIRC)) for j in range(NUM_CIRC))\n",
    "    extends = any(0>=centers[i][0]-radii[i] or radii[i]+centers[i][0]>=100 or 0>=centers[i][1]-radii[i] or radii[i]+centers[i][1]>=100 for i in range(NUM_CIRC))\n",
    "\n",
    "    match set_type:\n",
    "        case \"clean\":\n",
    "            while(collides or extends): \n",
    "                centers = [(random.uniform(0.0, 100.0), random.uniform(0.0, 100.0)) for _ in range(NUM_CIRC)]\n",
    "                radii = [random.randint(*RANGE_RADIUS) for _ in range(NUM_CIRC)]\n",
    "                collides = any(any((centers[i][0]-centers[j][0])**2 + (centers[i][1]-centers[j][1])**2 <= (radii[i]+radii[j])**2 for i in range(j+1, NUM_CIRC)) for j in range(NUM_CIRC))\n",
    "                extends = any(0>=centers[i][0]-radii[i] or radii[i]+centers[i][0]>=100 or 0>=centers[i][1]-radii[i] or radii[i]+centers[i][1]>=100 for i in range(NUM_CIRC))\n",
    "        case \"extends\":\n",
    "            while(collides or not extends):\n",
    "                centers = [(random.uniform(0.0, 100.0), random.uniform(0.0, 100.0)) for _ in range(NUM_CIRC)]\n",
    "                radii = [random.randint(*RANGE_RADIUS) for _ in range(NUM_CIRC)]\n",
    "                collides = any(any((centers[i][0]-centers[j][0])**2 + (centers[i][1]-centers[j][1])**2 <= (radii[i]+radii[j])**2 for i in range(j+1, NUM_CIRC)) for j in range(NUM_CIRC))\n",
    "                extends = any(0>centers[i][0]-radii[i] or radii[i]+centers[i][0]>100 or 0>centers[i][1]-radii[i] or radii[i]+centers[i][1]>100 for i in range(NUM_CIRC))\n",
    "        case \"collission\":\n",
    "            while(not collides):\n",
    "                centers = [(random.uniform(0.0, 100.0), random.uniform(0.0, 100.0)) for _ in range(NUM_CIRC)]\n",
    "                radii = [random.randint(*RANGE_RADIUS) for _ in range(NUM_CIRC)]\n",
    "                collides = any(any((centers[i][0]-centers[j][0])**2 + (centers[i][1]-centers[j][1])**2 <= (radii[i]+radii[j])**2 for i in range(j+1, NUM_CIRC)) for j in range(NUM_CIRC))\n",
    "                extends = any(0>=centers[i][0]-radii[i] or radii[i]+centers[i][0]>=100 or 0>=centers[i][1]-radii[i] or radii[i]+centers[i][1]>=100 for i in range(NUM_CIRC))\n",
    "\n",
    "    data = [PointsSet(get_circunference_points(random.randint(*RANGE_POINTS), centers[i], radii[i]), centers[i], i+1) for i in range(NUM_CIRC)]\n",
    "    '''\n",
    "    for i in range(NUM_CIRC):\n",
    "        circ_no = i+1 # 0 will be used for noise\n",
    "        center = centers[i]\n",
    "        rad = radii[i]\n",
    "        n = random.randint(*RANGE_POINTS)\n",
    "\n",
    "        points = get_circunference_points(n, center, rad)\n",
    "        circunference = PointsSet(points, center, circ_no)\n",
    "        data.append(circunference)\n",
    "    '''\n",
    "    \n",
    "    # Add noise\n",
    "    n = int(sum([len(c.points) for c in data]) * (NOISE_RATIO)) # Number of total points so far in the dataset * NOISE_RATIO. This gives us the ammount of noise to include in the dataset\n",
    "    points = [(random.uniform(0.0, 100.0), random.uniform(0.0, 100.0)) for _ in range(n)]\n",
    "    noise = PointsSet(points, None, None)\n",
    "\n",
    "    data.append(noise)\n",
    "    return data\n"
   ]
  },
  {
   "attachments": {},
   "cell_type": "markdown",
   "metadata": {},
   "source": [
    "# Dataset Generation and Storing\n",
    "\n",
    "Now that we have the tools to create \"1 image\", we can create an entire dataset and save it as a collection of csv, classified depending on the type or circunferences generated:\n",
    "    - Cirfuncerences with no collision and no extinding over the edges\n",
    "    - Circunferences extending over the edges\n",
    "    - Circunferences with collision (may also be extending over the edges)\n",
    "\n",
    "This could be later used for machine learning and plotting results.\n",
    "\n",
    "To store the data we will use the pandas library"
   ]
  },
  {
   "cell_type": "code",
   "execution_count": 241,
   "metadata": {},
   "outputs": [],
   "source": [
    "import pandas as pd\n",
    "\n",
    "dataset_clean = [get_data(set_type=\"clean\") for _ in range(NUM_IMAGES)]\n",
    "dataset_extend = [get_data(set_type=\"extends\") for _ in range(NUM_IMAGES)]\n",
    "dataset_collission = [get_data(set_type=\"collission\") for _ in range(NUM_IMAGES)]\n",
    "\n",
    "def save_dataset(dataset, set_type):\n",
    "    if not os.path.exists(OUTPUT+f\"/{set_type}\"):\n",
    "        os.makedirs(OUTPUT+f\"/{set_type}\")\n",
    "        counter = 1\n",
    "    else:\n",
    "        # Start counter from the last csv in the directory as to not overwrite previous data\n",
    "        counter = sorted([int(x.split(\".\")[0]) for x in os.listdir(OUTPUT+f\"/{set_type}\")])[-1]+1\n",
    "    for data in dataset:\n",
    "        data_frame_list = []\n",
    "        for points_set in data:\n",
    "            data_frame_list.extend(points_set.unpack())\n",
    "        \n",
    "        plane_pd = pd.DataFrame(data_frame_list,\n",
    "                                columns=[\"point_x\", \"point_y\", \"center_x\", \"center_y\", \"circ_no\"])\n",
    "\n",
    "        # We save the data in a csv, in the output folder specified, continue to the next circle\n",
    "        plane_pd.to_csv(OUTPUT+f\"/{set_type}/{counter}.csv\", sep=\";\", index=False)\n",
    "        counter += 1\n",
    "\n",
    "save_dataset(dataset_clean, \"clean\")\n",
    "save_dataset(dataset_extend, \"extends\")\n",
    "save_dataset(dataset_collission, \"collides\")"
   ]
  },
  {
   "cell_type": "code",
   "execution_count": null,
   "metadata": {},
   "outputs": [],
   "source": []
  }
 ],
 "metadata": {
  "kernelspec": {
   "display_name": ".venv",
   "language": "python",
   "name": "python3"
  },
  "language_info": {
   "codemirror_mode": {
    "name": "ipython",
    "version": 3
   },
   "file_extension": ".py",
   "mimetype": "text/x-python",
   "name": "python",
   "nbconvert_exporter": "python",
   "pygments_lexer": "ipython3",
   "version": "3.10.6"
  },
  "orig_nbformat": 4,
  "vscode": {
   "interpreter": {
    "hash": "2446266b7054609a6dae69b456e88a59e71437ec47e5b51a68b438a99636ed8c"
   }
  }
 },
 "nbformat": 4,
 "nbformat_minor": 2
}
